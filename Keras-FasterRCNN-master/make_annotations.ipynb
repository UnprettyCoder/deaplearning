{
 "cells": [
  {
   "cell_type": "code",
   "execution_count": 25,
   "metadata": {},
   "outputs": [],
   "source": [
    "import os\n",
    "from os import listdir"
   ]
  },
  {
   "cell_type": "code",
   "execution_count": 26,
   "metadata": {},
   "outputs": [],
   "source": [
    "annotation_file = open(\"C:\\\\Users\\\\KSWLAB_1\\\\Desktop\\\\paper_code\\\\Keras-FasterRCNN-master\\\\Annotations\\\\\"\n",
    "                      + \"All_Annotations.txt\", \"r\")\n",
    "\n"
   ]
  },
  {
   "cell_type": "code",
   "execution_count": 27,
   "metadata": {},
   "outputs": [],
   "source": [
    "imgpath = \"C:\\\\Users\\\\KSWLAB_1\\\\Desktop\\\\paper_code\\\\Keras-FasterRCNN-master\\\\All_Image\\\\\"\n",
    "total_annot = []\n",
    "for line in annotation_file:\n",
    "    \n",
    "    if \"JPG\" in line.upper():\n",
    "        label = line.split(\",\")[-1]\n",
    "        y2 = line.split(\",\")[4]\n",
    "        x2 = line.split(\",\")[3]\n",
    "        y1 = line.split(\",\")[2]\n",
    "        x1 = line.split(\",\")[1]\n",
    "        path = (line.split(\",\")[0])\n",
    "        image = path.split(\"\\\\\")[-1]\n",
    "        total_annot.append(image.upper()+\",\"+x1+\",\"+y1+\",\"+x2+\",\"+y2+\",\"+label.upper())"
   ]
  },
  {
   "cell_type": "code",
   "execution_count": 28,
   "metadata": {},
   "outputs": [
    {
     "data": {
      "text/plain": [
       "93353"
      ]
     },
     "execution_count": 28,
     "metadata": {},
     "output_type": "execute_result"
    }
   ],
   "source": [
    "len(total_annot)"
   ]
  },
  {
   "cell_type": "code",
   "execution_count": 29,
   "metadata": {},
   "outputs": [],
   "source": [
    "total_annotation = open(\"C:\\\\Users\\\\KSWLAB_1\\\\Desktop\\\\paper_code\\\\Keras-FasterRCNN-master\\\\Annotations\\\\\"\n",
    "                       + \"total_annotation.txt\", \"a\")"
   ]
  },
  {
   "cell_type": "code",
   "execution_count": 30,
   "metadata": {},
   "outputs": [],
   "source": [
    "for annot in total_annot:\n",
    "    total_annotation.write(\"C:\\\\\\\\Users\\\\\\\\KSWLAB_1\\\\\\\\Desktop\\\\\\\\paper_code\\\\\\\\Keras-FasterRCNN-master\\\\\\\\All_Image\\\\\\\\\"+annot)\n",
    "total_annotation.close()\n",
    "\n",
    "# 만들면 캡처 참고해서 오타 수정해야함!"
   ]
  },
  {
   "cell_type": "code",
   "execution_count": null,
   "metadata": {},
   "outputs": [],
   "source": []
  }
 ],
 "metadata": {
  "kernelspec": {
   "display_name": "Python 3",
   "language": "python",
   "name": "python3"
  },
  "language_info": {
   "codemirror_mode": {
    "name": "ipython",
    "version": 3
   },
   "file_extension": ".py",
   "mimetype": "text/x-python",
   "name": "python",
   "nbconvert_exporter": "python",
   "pygments_lexer": "ipython3",
   "version": "3.7.4"
  }
 },
 "nbformat": 4,
 "nbformat_minor": 2
}
